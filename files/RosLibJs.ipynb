{
 "cells": [
  {
   "cell_type": "markdown",
   "metadata": {},
   "source": [
    "# Init everything"
   ]
  },
  {
   "cell_type": "code",
   "execution_count": null,
   "metadata": {},
   "outputs": [],
   "source": [
    "import pyjs"
   ]
  },
  {
   "cell_type": "code",
   "execution_count": null,
   "metadata": {},
   "outputs": [],
   "source": [
    "pyjs.js.Function(\"\"\"\n",
    "  globalThis[\"_window\"] = this || self || window;\n",
    "  const currentScriptPath = self.location.pathname;\n",
    "  // Calculate the base path by getting the directory part\n",
    "  const basePath = currentScriptPath.substring(0, currentScriptPath.lastIndexOf('/'));\n",
    " \n",
    "  // Now construct the URL relative to the current script\n",
    "  const url = basePath + \"/roslib.js\";\n",
    "  console.log(url);\n",
    "  importScripts(url);\n",
    "\"\"\")()"
   ]
  },
  {
   "cell_type": "code",
   "execution_count": null,
   "metadata": {},
   "outputs": [],
   "source": [
    "pyjs.js.Function(\"\"\"\n",
    "  const currentScriptPath = self.location.pathname;\n",
    "  // Calculate the base path by getting the directory part\n",
    "  const basePath = currentScriptPath.substring(0, currentScriptPath.lastIndexOf('/'));\n",
    "  const url = basePath + \"/pre.js\"\n",
    "  console.log(url);\n",
    "  importScripts(url);\n",
    "\"\"\")()"
   ]
  },
  {
   "cell_type": "code",
   "execution_count": null,
   "metadata": {},
   "outputs": [],
   "source": [
    "import os\n",
    "os.environ[\"ROS_DOMAIN_ID\"]=\"0\"\n",
    "os.environ[\"ROSLIBJS_ENABLE\"] = \"1\"\n",
    "import asyncio\n",
    "import pyjs\n",
    "import rclpy\n",
    "\n",
    "from rclpy.utilities import get_default_context\n",
    "from rclpy.signals import SignalHandlerOptions\n",
    "from rclpy.signals import install_signal_handlers\n",
    "from rclpy.node import Node\n",
    "from std_msgs.msg import String\n",
    "\n",
    "class MinimalSubscriber(Node):\n",
    "  def __init__(self, name, topics):\n",
    "    super().__init__(name)\n",
    "    self._subs = [self.create_subscription(\n",
    "      String,\n",
    "      topic,\n",
    "      self.listener_callback,\n",
    "      10) for topic in topics]\n",
    "    self._subs  # prevent unused variable warning\n",
    "    self._name = name\n",
    "\n",
    "  def listener_callback(self, msg):\n",
    "    print(self._name + \" heard: \\\"\" + msg.data + \"\\\"\")\n",
    "\n",
    "# Global running flag used to stop async tasks\n",
    "running = True\n",
    "\n",
    "# Async spin/publish functions\n",
    "async def spin_subscriber(sub):\n",
    "  while running:\n",
    "    rclpy.spin_once(sub, timeout_sec=0)\n",
    "    await asyncio.sleep(0.01)\n",
    "\n",
    "async def publish_messages(pub, text):\n",
    "  count = 0\n",
    "  while running:\n",
    "    msg = String()\n",
    "    msg.data = text + str(count)\n",
    "    count = count + 1\n",
    "    pub.publish(msg)\n",
    "    await asyncio.sleep(1)\n",
    "\n",
    "# Create ROS context\n",
    "context = get_default_context()\n",
    "context.init(args=None, domain_id=None)\n",
    "context.ok()\n",
    "\n",
    "print(\"here\")\n",
    "# Create publishers and subscribers\n",
    "node = rclpy.create_node('minimal_publisher', context=context, use_global_arguments=False, start_parameter_services=True)\n",
    "print(\"node created\")\n",
    "pub_a = node.create_publisher(String, 'topic_a', 10)\n",
    "pub_b = node.create_publisher(String, 'topic_b', 10)\n",
    "sub_1 = MinimalSubscriber('minimal_subscriber_test', ['topic_a', 'topic_b'])\n",
    "sub_2 = MinimalSubscriber('minimal_subscriber_test_a', ['topic_b'])"
   ]
  },
  {
   "cell_type": "markdown",
   "metadata": {},
   "source": [
    "# Run publishers/subscribers"
   ]
  },
  {
   "cell_type": "code",
   "execution_count": null,
   "metadata": {},
   "outputs": [],
   "source": [
    "running = True\n",
    "print(\"Running nodes for 5 seconds\")\n",
    "asyncio.create_task(publish_messages(pub_a, 'Hello From A '))\n",
    "asyncio.create_task(publish_messages(pub_b, 'Hello From B '))\n",
    "asyncio.create_task(spin_subscriber(sub_1))\n",
    "asyncio.create_task(spin_subscriber(sub_2))\n",
    "\n",
    "async def stopper():\n",
    "    global running\n",
    "    await asyncio.sleep(5)\n",
    "    print(\"Stopping all tasks\")\n",
    "    running = False\n",
    "    \n",
    "asyncio.create_task(stopper())"
   ]
  },
  {
   "cell_type": "code",
   "execution_count": null,
   "metadata": {},
   "outputs": [],
   "source": []
  }
 ],
 "metadata": {
  "kernelspec": {
   "display_name": "Python 3.11 (XPython)",
   "language": "python",
   "name": "xpython"
  },
  "language_info": {
   "file_extension": ".py",
   "mimetype": "text/x-python",
   "name": "python",
   "version": "3.11.3"
  }
 },
 "nbformat": 4,
 "nbformat_minor": 4
}
