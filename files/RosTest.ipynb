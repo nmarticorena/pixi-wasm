{
  "metadata": {
    "kernelspec": {
      "name": "xeus-python",
      "display_name": "Python (XPython)",
      "language": "python"
    },
    "language_info": {
      "file_extension": ".py",
      "mimetype": "text/x-python",
      "name": "python",
      "version": "3.11.3"
    }
  },
  "nbformat_minor": 4,
  "nbformat": 4,
  "cells": [
    {
      "cell_type": "markdown",
      "source": "# Init everything",
      "metadata": {}
    },
    {
      "cell_type": "code",
      "source": "import os\nos.environ[\"ROS_DOMAIN_ID\"]=\"0\"\n\nimport asyncio\nimport pyjs\nimport rclpy\n\nfrom rclpy.utilities import get_default_context\nfrom rclpy.signals import SignalHandlerOptions\nfrom rclpy.signals import install_signal_handlers\nfrom rclpy.node import Node\nfrom std_msgs.msg import String\n\nclass MinimalSubscriber(Node):\n  def __init__(self, name, topics):\n    super().__init__(name)\n    self._subs = [self.create_subscription(\n      String,\n      topic,\n      self.listener_callback,\n      10) for topic in topics]\n    self._subs  # prevent unused variable warning\n    self._name = name\n\n  def listener_callback(self, msg):\n    print(self._name + \" heard: \\\"\" + msg.data + \"\\\"\")\n\n# Global running flag used to stop async tasks\nrunning = True\n\n# Async spin/publish functions\nasync def spin_subscriber(sub):\n  while running:\n    rclpy.spin_once(sub, timeout_sec=0)\n    await asyncio.sleep(0.01)\n\nasync def publish_messages(pub, text):\n  count = 0\n  while running:\n    msg = String()\n    msg.data = text + str(count)\n    count = count + 1\n    pub.publish(msg)\n    await asyncio.sleep(1)\n\n# Create ROS context\ncontext = get_default_context()\ncontext.init(args=None, domain_id=None)\ncontext.ok()\n\n# Create publishers and subscribers\nnode = rclpy.create_node('minimal_publisher', context=context, use_global_arguments=False, start_parameter_services=True)\npub_a = node.create_publisher(String, 'topic_a', 10)\npub_b = node.create_publisher(String, 'topic_b', 10)\nsub_1 = MinimalSubscriber('minimal_subscriber_test', ['topic_a', 'topic_b'])\nsub_2 = MinimalSubscriber('minimal_subscriber_test_a', ['topic_b'])",
      "metadata": {
        "trusted": true
      },
      "outputs": [],
      "execution_count": 1
    },
    {
      "cell_type": "markdown",
      "source": "# Run publishers/subscribers",
      "metadata": {}
    },
    {
      "cell_type": "code",
      "source": "running = True\nprint(\"Running nodes for 5 seconds\")\nasyncio.create_task(publish_messages(pub_a, 'Hello From A '))\nasyncio.create_task(publish_messages(pub_b, 'Hello From B '))\nasyncio.create_task(spin_subscriber(sub_1))\nasyncio.create_task(spin_subscriber(sub_2))\n\nasync def stopper():\n    global running\n    await asyncio.sleep(5)\n    print(\"Stopping all tasks\")\n    running = False\n    \nasyncio.create_task(stopper())",
      "metadata": {
        "trusted": true
      },
      "outputs": [
        {
          "name": "stdout",
          "text": "Running nodes for 5 seconds\n",
          "output_type": "stream"
        },
        {
          "execution_count": 2,
          "output_type": "execute_result",
          "data": {
            "text/plain": "<Task pending name='Task-5' coro=<stopper() running at /tmp/xpython_42/1230654137.py:8>>"
          },
          "metadata": {}
        },
        {
          "name": "stdout",
          "text": "minimal_subscriber_test heard: \"Hello From A 0\"\nminimal_subscriber_test heard: \"Hello From B 0\"\nminimal_subscriber_test_a heard: \"Hello From B 0\"\nminimal_subscriber_test_a heard: \"Hello From B 1\"\nminimal_subscriber_test heard: \"Hello From A 1\"\nminimal_subscriber_test heard: \"Hello From B 1\"\nminimal_subscriber_test_a heard: \"Hello From B 2\"\nminimal_subscriber_test heard: \"Hello From A 2\"\nminimal_subscriber_test heard: \"Hello From B 2\"\nminimal_subscriber_test heard: \"Hello From A 3\"\nminimal_subscriber_test heard: \"Hello From B 3\"\nminimal_subscriber_test_a heard: \"Hello From B 3\"\nminimal_subscriber_test heard: \"Hello From A 4\"\nminimal_subscriber_test heard: \"Hello From B 4\"\nminimal_subscriber_test_a heard: \"Hello From B 4\"\nStopping all tasks\n",
          "output_type": "stream"
        }
      ],
      "execution_count": 2
    },
    {
      "cell_type": "code",
      "source": "",
      "metadata": {
        "trusted": true
      },
      "outputs": [],
      "execution_count": null
    }
  ]
}